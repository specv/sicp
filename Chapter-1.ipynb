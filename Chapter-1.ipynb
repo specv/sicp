{
 "cells": [
  {
   "cell_type": "markdown",
   "id": "3d876e1c-f3d3-4e0d-b0dd-db976b65cd76",
   "metadata": {},
   "source": [
    "# 1.1 程序设计的基本元素\n",
    "每一种强有力的语言都为此(将简单的认识组合起来形成更复杂认识)提供了三种机制：\n",
    "- 基本表达形式\n",
    "- 组合的方法\n",
    "- 抽象的方法"
   ]
  },
  {
   "cell_type": "markdown",
   "id": "c1645a45-2720-4ed4-a600-a503dcd191e8",
   "metadata": {},
   "source": [
    "## 1.1.1 表达式"
   ]
  },
  {
   "cell_type": "code",
   "execution_count": 1,
   "id": "480424cd-d6f0-4aa0-95a5-ae3532bea642",
   "metadata": {},
   "outputs": [
    {
     "data": {
      "text/plain": [
       "75"
      ]
     },
     "execution_count": 1,
     "metadata": {},
     "output_type": "execute_result"
    }
   ],
   "source": [
    "(+ 21 35 12 7) ;前缀表达式，完全适用于可能带有任意个实参的过程"
   ]
  },
  {
   "cell_type": "code",
   "execution_count": 2,
   "id": "3c8b2ab0-ecb1-42f8-bd84-f5e7277b8770",
   "metadata": {},
   "outputs": [
    {
     "data": {
      "text/plain": [
       "19"
      ]
     },
     "execution_count": 2,
     "metadata": {},
     "output_type": "execute_result"
    }
   ],
   "source": [
    "(+ (* 3 5) (- 10 6))"
   ]
  },
  {
   "cell_type": "code",
   "execution_count": 3,
   "id": "208312d0-9294-4b74-b62c-83ea07db3c2c",
   "metadata": {},
   "outputs": [
    {
     "data": {
      "text/plain": [
       "57"
      ]
     },
     "execution_count": 3,
     "metadata": {},
     "output_type": "execute_result"
    }
   ],
   "source": [
    ";美观打印\n",
    "(+ (* 3\n",
    "      (+ (* 2 4)\n",
    "         (+ 3 5)))\n",
    "   (+ (- 10 7)\n",
    "      6))"
   ]
  },
  {
   "cell_type": "markdown",
   "id": "a3b349c1-dd76-4712-ab79-32c81a6d1fd1",
   "metadata": {},
   "source": [
    "## 1.1.2 命名和环境"
   ]
  },
  {
   "cell_type": "code",
   "execution_count": 4,
   "id": "ee42f9c2-e6b6-4392-a156-4f4e23193595",
   "metadata": {},
   "outputs": [
    {
     "data": {
      "text/plain": [
       "62.8318"
      ]
     },
     "execution_count": 4,
     "metadata": {},
     "output_type": "execute_result"
    }
   ],
   "source": [
    "(define pi 3.14159)\n",
    "(define radius 10)\n",
    "(define circumference (* 2 pi radius))\n",
    "\n",
    "circumference"
   ]
  },
  {
   "cell_type": "markdown",
   "id": "a4e3d9c3-0179-4d82-b0a1-6af9c53b7f64",
   "metadata": {},
   "source": [
    "## 1.1.4 复合过程"
   ]
  },
  {
   "cell_type": "code",
   "execution_count": 5,
   "id": "86a7cd6c-2902-4177-bd91-370e26678458",
   "metadata": {},
   "outputs": [
    {
     "data": {
      "text/plain": [
       "16"
      ]
     },
     "execution_count": 5,
     "metadata": {},
     "output_type": "execute_result"
    }
   ],
   "source": [
    "(define (square x) (* x x))\n",
    "\n",
    "(square 4)"
   ]
  },
  {
   "cell_type": "markdown",
   "id": "f8b3a1b7-f3dc-4019-a2c3-ca1265761a66",
   "metadata": {},
   "source": [
    "## 1.1.5 过程应用的代换模型\n",
    "\n",
    "- 应用序: 先求值参数而后应用\n",
    "- 正则序: 完全展开而后归约"
   ]
  },
  {
   "cell_type": "markdown",
   "id": "488549c0-78e2-4158-9605-c04f52f1bb71",
   "metadata": {},
   "source": [
    "## 1.1.6 条件表达式和谓词\n",
    "\n",
    "- cond\n",
    "- if\n",
    "- and\n",
    "- or\n",
    "- not"
   ]
  },
  {
   "cell_type": "code",
   "execution_count": 6,
   "id": "39580db7-1add-4623-aa4c-93a713ccf805",
   "metadata": {},
   "outputs": [],
   "source": [
    "(define (abs x)\n",
    "  (cond ((> x 0) x)\n",
    "        (( = x 0) 0)\n",
    "        ((< x 0) (- x))))\n",
    "\n",
    "(define (abs x)\n",
    "  (cond ((< x 0) (- x))\n",
    "        (else x)))\n",
    "\n",
    "(define (abs x)\n",
    "  (if (< x 0)\n",
    "      (- x)\n",
    "      x))\n",
    "\n",
    "(define (between v x y)\n",
    "  (and (>= v x) (<= v y)))\n",
    "\n",
    "(define (>= x y)\n",
    "  (or (> x y) (= x y)))\n",
    "\n",
    "(define (>= x y)\n",
    "  (not (< x y)))"
   ]
  },
  {
   "cell_type": "markdown",
   "id": "92a5b698-ee58-4d61-85bb-0fd43927550d",
   "metadata": {},
   "source": [
    "## 练习 1.1"
   ]
  },
  {
   "cell_type": "code",
   "execution_count": 7,
   "id": "9b42e9a7-b90e-4b87-9fd7-65ef20de89bd",
   "metadata": {},
   "outputs": [
    {
     "data": {
      "text/plain": [
       "(10 12 8 3 6 <void> <void> 19 16 6 16)"
      ]
     },
     "execution_count": 7,
     "metadata": {},
     "output_type": "execute_result"
    }
   ],
   "source": [
    "(list 10\n",
    "      \n",
    "      (+ 5 3 4)\n",
    "      \n",
    "      (- 9 1)\n",
    "      \n",
    "      (/ 6 2)\n",
    "      \n",
    "      (+ (* 2 4) (- 4 6))\n",
    "      \n",
    "      (define a 3)\n",
    "      \n",
    "      (define b (+ a 1))\n",
    "      \n",
    "      (+ a b (* a b))\n",
    "      \n",
    "      (cond ((= a 4) 6)\n",
    "            ((= b 4) (+ 6 7 a))\n",
    "            (else 25))\n",
    "      \n",
    "      (+ 2 (if (> b a) b a))\n",
    "      \n",
    "      (* (cond ((> a b) a)\n",
    "               ((< a b) b)\n",
    "               (else -1))\n",
    "         (+ a 1)))"
   ]
  },
  {
   "cell_type": "markdown",
   "id": "e592deef-6c5b-43ba-8722-50b9d25c44a2",
   "metadata": {},
   "source": [
    "## 练习 1.2"
   ]
  },
  {
   "cell_type": "code",
   "execution_count": 8,
   "id": "fb6689df-c951-43ae-bfcd-3618c5f14f3c",
   "metadata": {},
   "outputs": [
    {
     "data": {
      "text/plain": [
       "-0.24666666666666667"
      ]
     },
     "execution_count": 8,
     "metadata": {},
     "output_type": "execute_result"
    }
   ],
   "source": [
    "(/ (+ 5\n",
    "      4\n",
    "      (- 2 (- 3 (+ 6 (/ 4.0 5.0)))))\n",
    "   (* 3\n",
    "      (- 6 2)\n",
    "      (- 2 7)))"
   ]
  },
  {
   "cell_type": "markdown",
   "id": "b6225bd8-0b6a-4e55-a48c-baff4457a3bb",
   "metadata": {},
   "source": [
    "## 练习 1.3"
   ]
  },
  {
   "cell_type": "code",
   "execution_count": 9,
   "id": "c0f62f8c-082e-4dfc-b485-322bf1747997",
   "metadata": {},
   "outputs": [
    {
     "data": {
      "text/plain": [
       "(5 5 5 5 5 5 10)"
      ]
     },
     "execution_count": 9,
     "metadata": {},
     "output_type": "execute_result"
    }
   ],
   "source": [
    "(define (max-sum x y z)\n",
    "  (cond ((and (>= x y) (>= y z)) (+ x y))\n",
    "        ((and (>= x z) (>= z y)) (+ x z))\n",
    "        ((and (>= y x) (>= x z)) (+ y x))\n",
    "        ((and (>= y z) (>= z x)) (+ y z))\n",
    "        ((and (>= z x) (>= x y)) (+ z x))\n",
    "        ((and (>= z y) (>= y x)) (+ z y))))\n",
    "\n",
    "(list (max-sum 1 2 3)\n",
    "      (max-sum 1 3 2)\n",
    "      (max-sum 2 1 3)\n",
    "      (max-sum 2 3 1)\n",
    "      (max-sum 3 1 2)\n",
    "      (max-sum 3 2 1)\n",
    "      (max-sum 5 5 5))"
   ]
  },
  {
   "cell_type": "markdown",
   "id": "18107ddc-5fd8-4914-a097-61bfed0e5667",
   "metadata": {},
   "source": [
    "## 练习 1.4"
   ]
  },
  {
   "cell_type": "code",
   "execution_count": 10,
   "id": "9550cda9-392b-4087-aac1-3220a9478230",
   "metadata": {},
   "outputs": [],
   "source": [
    "(define (a-plus-abs-b a b)\n",
    "  ((if (> b 0) + -) a b))"
   ]
  },
  {
   "cell_type": "code",
   "execution_count": 11,
   "id": "cb82527d-3e8a-4c77-a0e3-903507cc1fb0",
   "metadata": {},
   "outputs": [
    {
     "data": {
      "text/plain": [
       "0"
      ]
     },
     "execution_count": 11,
     "metadata": {},
     "output_type": "execute_result"
    }
   ],
   "source": [
    "(a-plus-abs-b -1 1)"
   ]
  },
  {
   "cell_type": "code",
   "execution_count": 12,
   "id": "482da732-0d17-476a-9637-98cb575826ca",
   "metadata": {},
   "outputs": [
    {
     "data": {
      "text/plain": [
       "2"
      ]
     },
     "execution_count": 12,
     "metadata": {},
     "output_type": "execute_result"
    }
   ],
   "source": [
    "(a-plus-abs-b 1 -1)"
   ]
  },
  {
   "cell_type": "markdown",
   "id": "bc77258b-5d01-4834-ab4c-edef0d2b750f",
   "metadata": {},
   "source": [
    "## 练习 1.5"
   ]
  },
  {
   "cell_type": "code",
   "execution_count": 13,
   "id": "7b1b887d-6b5f-4b4c-b105-832c6d1e8657",
   "metadata": {},
   "outputs": [],
   "source": [
    "(define (p) (p))\n",
    "\n",
    "(define (test x y)\n",
    "  (if (= x 0)\n",
    "      0\n",
    "      y))\n",
    "\n",
    ";(test 0 (p))\n",
    ";应用序: 先求值参数而后应用，无限递归\n",
    ";正则序: 完全展开而后归约，返回 0"
   ]
  },
  {
   "cell_type": "markdown",
   "id": "4726f02a-5dbc-4775-a85c-baea64e8f921",
   "metadata": {},
   "source": [
    "## 1.1.7 实例：采用牛顿法求平方根\n",
    "\n",
    "在用于写纯粹的数值计算程序时，至今已介绍的简单程序设计语言已经足以写出可以在其他语言（例如 C 或者 Pascal）中写出的任何东西了"
   ]
  },
  {
   "cell_type": "code",
   "execution_count": 55,
   "id": "a973a49c-5739-4b75-934b-8a0eaf90f49b",
   "metadata": {},
   "outputs": [
    {
     "data": {
      "text/plain": [
       "2.0000000929222947"
      ]
     },
     "execution_count": 55,
     "metadata": {},
     "output_type": "execute_result"
    }
   ],
   "source": [
    "(define (square x) (* x x))\n",
    "\n",
    "(define (average x y) (/ (+ x y) 2))\n",
    "\n",
    "(define (good-enough? guess x) ;命名约定，谓词函数末尾使用问号，以帮人注意到它们是谓词\n",
    "    (< (abs (- (square guess) x)) 0.001))\n",
    "\n",
    "(define (improve guess x)\n",
    "    (average guess (/ x guess)))\n",
    "\n",
    "(define (sqrt-iter guess x)\n",
    "    (if (good-enough? guess x)\n",
    "        guess\n",
    "        (sqrt-iter (improve guess x) x)))\n",
    "    \n",
    "(define (sqrt x) (sqrt-iter 1.0 x)) ;MIT Scheme 区分了精确的整数和十进制数值，两个整数的商是一个有理数而不是十进制数值\n",
    "\n",
    "(sqrt 4)"
   ]
  },
  {
   "cell_type": "markdown",
   "id": "213a329e-f8af-4427-9b88-631047f17b32",
   "metadata": {},
   "source": [
    "## 练习 1.6"
   ]
  },
  {
   "cell_type": "code",
   "execution_count": 15,
   "id": "d8a05f7e-3b4d-4f83-9685-bc0abcf9d859",
   "metadata": {},
   "outputs": [],
   "source": [
    "(define (new-if predicate then-clause else-clause)\n",
    "  (cond (predicate then-clause)\n",
    "        (else else-clause)))"
   ]
  },
  {
   "cell_type": "code",
   "execution_count": 16,
   "id": "cc49b689-f2d1-417e-a89f-facd28bd9c31",
   "metadata": {},
   "outputs": [
    {
     "data": {
      "text/plain": [
       "5"
      ]
     },
     "execution_count": 16,
     "metadata": {},
     "output_type": "execute_result"
    }
   ],
   "source": [
    "(new-if (= 2 3) 0 5)"
   ]
  },
  {
   "cell_type": "code",
   "execution_count": 17,
   "id": "acb0edf4-73f9-414d-a52e-65676b1a6e21",
   "metadata": {},
   "outputs": [
    {
     "data": {
      "text/plain": [
       "0"
      ]
     },
     "execution_count": 17,
     "metadata": {},
     "output_type": "execute_result"
    }
   ],
   "source": [
    "(new-if (= 1 1) 0 5)"
   ]
  },
  {
   "cell_type": "code",
   "execution_count": 18,
   "id": "ddbe4e23-1511-49c7-99cb-d90c504bbfb2",
   "metadata": {},
   "outputs": [],
   "source": [
    "(define (sqrt-iter guess x)\n",
    "  (new-if (good-enough? guess x)\n",
    "          guess\n",
    "          (sqrt-iter (improve guess x)\n",
    "                     x)))\n",
    "\n",
    ";(sqrt-iter 1.0 4)\n",
    ";if 使用应用序求值，then-clause、else-clause 均会求值，good-enough? 为 true 时程序本该停止，此时导致无限递归。"
   ]
  },
  {
   "cell_type": "markdown",
   "id": "57a5b697-0f68-4afc-ae25-f4dc95e939c3",
   "metadata": {},
   "source": [
    "## 练习 1.7"
   ]
  },
  {
   "cell_type": "code",
   "execution_count": 75,
   "id": "eed7d430-43c7-458d-9139-53c66f820752",
   "metadata": {},
   "outputs": [
    {
     "data": {
      "text/plain": [
       "2.0"
      ]
     },
     "execution_count": 75,
     "metadata": {},
     "output_type": "execute_result"
    }
   ],
   "source": [
    "(define (good-enough? guess x last-guess)\n",
    "    (< (abs (- guess last-guess)) 0.0000000001))\n",
    "\n",
    "(define (sqrt-iter guess x last-guess)\n",
    "    (if (good-enough? guess x last-guess)\n",
    "        guess\n",
    "        (sqrt-iter (improve guess x) x guess)))\n",
    "\n",
    "(define (sqrt x) (sqrt-iter 1.0 x 0))\n",
    "\n",
    "(sqrt 4)"
   ]
  },
  {
   "cell_type": "markdown",
   "id": "a3ce142b-0a0b-4f94-a08a-c272b657b17e",
   "metadata": {},
   "source": [
    "## 练习 1.8"
   ]
  },
  {
   "cell_type": "markdown",
   "id": "89489ce9-9d75-4db4-92e4-e6efb91e2117",
   "metadata": {
    "tags": []
   },
   "source": [
    "## 1.1.8 过程作为黑箱抽象\n",
    "\n",
    "- 过程抽象：一个过程定义应该能隐藏起一些细节，用户在使用一个过程时，应该不需要去弄清它是如何实现的\n",
    "- 形式参数：局部名\n",
    "- 封装：内部定义和块结构。以 sqrt 程序为例，仅 sqrt 对用户是重要的(public)，其他过程(private)只会干扰他们的思维，而且也会导致命名冲突"
   ]
  },
  {
   "cell_type": "code",
   "execution_count": 56,
   "id": "c12f4d26-a788-4ec4-a2d6-bae432797efc",
   "metadata": {},
   "outputs": [],
   "source": [
    "(define (sqrt x)\n",
    "    (define (square x) (* x x))\n",
    "  \n",
    "    (define (average x y) (/ (+ x y) 2))\n",
    "  \n",
    "    (define (good-enough? guess x)\n",
    "        (< (abs (- (square guess) x)) 0.001))\n",
    "  \n",
    "    (define (improve guess x)\n",
    "        (average guess (/ x guess)))\n",
    "\n",
    "    (define (sqrt-iter guess x)\n",
    "        (if (good-enough? guess x)\n",
    "            guess\n",
    "            (sqrt-iter (improve guess x) x)))\n",
    "    \n",
    "    (sqrt-iter 1.0 x))"
   ]
  },
  {
   "cell_type": "code",
   "execution_count": 24,
   "id": "408a43cd-d45e-41aa-bc77-b8e0a215ba4f",
   "metadata": {},
   "outputs": [
    {
     "data": {
      "text/plain": [
       "2.0000000929222947"
      ]
     },
     "execution_count": 24,
     "metadata": {},
     "output_type": "execute_result"
    }
   ],
   "source": [
    "(sqrt 4)"
   ]
  },
  {
   "cell_type": "markdown",
   "id": "81de83a6-7443-4437-8d25-343ae80e1bec",
   "metadata": {},
   "source": [
    "所有函数都在形参 x 的作用域内，x 也就不必显示传递"
   ]
  },
  {
   "cell_type": "code",
   "execution_count": 21,
   "id": "ecb7f065-7ff2-4856-9564-b5bc1b8106be",
   "metadata": {},
   "outputs": [],
   "source": [
    "(define (sqrt x)\n",
    "    (define (square x) (* x x))\n",
    "  \n",
    "    (define (average x y) (/ (+ x y) 2))\n",
    "  \n",
    "    (define (good-enough? guess)\n",
    "        (< (abs (- (square guess) x)) 0.001))\n",
    "  \n",
    "    (define (improve guess)\n",
    "        (average guess (/ x guess)))\n",
    "\n",
    "    (define (sqrt-iter guess)\n",
    "        (if (good-enough? guess)\n",
    "            guess\n",
    "            (sqrt-iter (improve guess))))\n",
    "    \n",
    "    (sqrt-iter 1.0))"
   ]
  },
  {
   "cell_type": "code",
   "execution_count": 22,
   "id": "2a87f5f2-1fcc-40d0-9a57-48c23f663b78",
   "metadata": {},
   "outputs": [
    {
     "data": {
      "text/plain": [
       "2.0000000929222947"
      ]
     },
     "execution_count": 22,
     "metadata": {},
     "output_type": "execute_result"
    }
   ],
   "source": [
    "(sqrt 4)"
   ]
  }
 ],
 "metadata": {
  "kernelspec": {
   "display_name": "Calysto Scheme 3",
   "language": "scheme",
   "name": "calysto_scheme"
  },
  "language_info": {
   "codemirror_mode": {
    "name": "scheme"
   },
   "mimetype": "text/x-scheme",
   "name": "scheme",
   "pygments_lexer": "scheme"
  },
  "toc-showmarkdowntxt": false
 },
 "nbformat": 4,
 "nbformat_minor": 5
}
